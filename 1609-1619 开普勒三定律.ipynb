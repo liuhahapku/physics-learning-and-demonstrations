{
 "cells": [
  {
   "cell_type": "markdown",
   "metadata": {},
   "source": [
    "# 开普勒三定律"
   ]
  },
  {
   "cell_type": "markdown",
   "metadata": {},
   "source": [
    "## 开普勒定律的发现  \n",
    "开普勒定律由三个定律组成$^{[1]}$：  \n",
    "1. 行星运行在椭圆轨道上，太阳位于椭圆的焦点上  \n",
    "2. 在椭圆轨道平面上，行星在单位时间划过的面积是相等的  \n",
    "3. 行星绕太阳公转的周期 T 与公转椭圆轨道的半长轴（长轴的一半）a 满足数量关系： $ T^2 \\propto a^3$  \n",
    "\n",
    "\n",
    "前两个定律由开普勒于 1609 年在《新宇宙学》（Astronomia nova）一书中提出，    \n",
    "第三定律由开普勒于 1619 年在《宇宙的和谐》（Harmonices Mundi）一书中提出，  \n",
    "值得注意的是开普勒测量行星与太阳距离的方法$^{[2]}$，结合观测到的角度，可以绘出行星运行的轨道 ,  \n",
    "另外第三定律的提出过程异常艰辛，开普勒花了 9 年时间分析观测数据，才得出一个统一的结论。  "
   ]
  },
  {
   "cell_type": "markdown",
   "metadata": {},
   "source": [
    "## 参考文献  \n",
    "[1]  https://en.wikipedia.org/wiki/Astronomia_nova#Kepler's_laws  \n",
    "[2]  https://baike.baidu.com/item/%E7%BA%A6%E7%BF%B0%E5%B0%BC%E6%96%AF%C2%B7%E5%BC%80%E6%99%AE%E5%8B%92/973574?fr=kg_qa#5_1"
   ]
  }
 ],
 "metadata": {
  "kernelspec": {
   "display_name": "Python 3",
   "language": "python",
   "name": "python3"
  },
  "language_info": {
   "codemirror_mode": {
    "name": "ipython",
    "version": 3
   },
   "file_extension": ".py",
   "mimetype": "text/x-python",
   "name": "python",
   "nbconvert_exporter": "python",
   "pygments_lexer": "ipython3",
   "version": "3.7.1"
  }
 },
 "nbformat": 4,
 "nbformat_minor": 2
}
